{
  "nbformat": 4,
  "nbformat_minor": 0,
  "metadata": {
    "colab": {
      "provenance": [],
      "collapsed_sections": []
    },
    "kernelspec": {
      "name": "python3",
      "display_name": "Python 3"
    },
    "language_info": {
      "name": "python"
    }
  },
  "cells": [
    {
      "cell_type": "markdown",
      "source": [
        "# Introduction To Data Science – Assignment 1\n",
        "\n",
        "---\n",
        "\n",
        "### Sections A – B – C – D\n",
        "\n",
        "---\n",
        "\n",
        "***Instructions***\n",
        "\n",
        "Due Date: Sunday 18th September 2022 – 11:59PM\n",
        "\n",
        "Name the file in the format Lyyxxxx and save it as .ipynb (e.g. L201234.ipynb)\n",
        "\n",
        "Submission will be taken on **GitHub and Google Classroom (submit the .ipynb file)** - Instructions to upload onto GitHub are provided in the link https://docs.google.com/document/d/1BR1ULOGeGWJVU6Rr6Qty1FR-quVRZyRvQGII6nEs-wo/edit?usp=sharing\n",
        "\n",
        "After uploading and submitting the .ipynb file onto Google Classroom, also private comment the link to the GitHub repository.\n",
        "\n",
        "All source files needed to complete this assignment can be found on the following Google Drive link https://drive.google.com/drive/folders/1VrkaVcExGWqilSeh50WZe4gUBjmUiJ9b?usp=sharing\n",
        "\n",
        "TA Emails\n",
        "\n",
        "Section A, C - Muhammad Maarij l192347@lhr.nu.edu.pk\n",
        "\n",
        "Section B, D - Hira Ijaz l192377@lhr.nu.edu.pk\n",
        "\n",
        "Happy Coding 😊\n",
        "\n",
        "---"
      ],
      "metadata": {
        "id": "TWWLTwYZorzC"
      }
    },
    {
      "cell_type": "markdown",
      "source": [
        "---\n",
        "## Question 1\n",
        "---"
      ],
      "metadata": {
        "id": "arB_0r9H0jjC"
      }
    },
    {
      "cell_type": "markdown",
      "source": [
        "Define a procedure called \"check_input\" that takes an input as a square list of lists (2D Matrix of N x N) and returns a boolen \"true\" if the input is valid or \"false\" otherwise, according to the following criteria.\n",
        "\n",
        "1. Each coloumn must contain numbers from between 1 and N, with no duplicates.\n",
        "2. Each row must contain numbers from between 1 and N, with no duplicates."
      ],
      "metadata": {
        "id": "qHPTNDy30n99"
      }
    },
    {
      "cell_type": "code",
      "source": [
        "# define procedure here\n",
        "def check_input(test):\n",
        "    rows = len(test)\n",
        "    cols = len(test[0])\n",
        "    for r in range(rows):\n",
        "        for c in range(cols):\n",
        "            if type(test[r][c]) == str:\n",
        "              #invalid if string input \n",
        "                return False\n",
        "            elif c + 1 < cols:\n",
        "             if test[r][c] == test[r][c+1]:\n",
        "                return False\n",
        "    for c in range(cols):\n",
        "        for r in range(rows):\n",
        "            if r+1 < rows:\n",
        "             if test[r][c] == test[r+1][c]:\n",
        "                return False\n",
        "    return True\n"
      ],
      "metadata": {
        "id": "S2_Zic322Lt7"
      },
      "execution_count": 16,
      "outputs": []
    },
    {
      "cell_type": "code",
      "source": [
        "# run this block to test code after defining the procedure\n",
        "\n",
        "test1 = [[1, 2, 3],\n",
        "        [2, 3, 1],\n",
        "        [3, 1, 2]]\n",
        "\n",
        "test2 = [[1, 2, 3, 4],\n",
        "        [2, 3, 1, 3],\n",
        "        [3, 1, 2, 3],\n",
        "        [4, 4, 4, 4]]\n",
        "\n",
        "test3 = [['a', 'b', 'c'],\n",
        "        ['b', 'c', 'a'],\n",
        "        ['c', 'a', 'b']]\n",
        "\n",
        "print(check_input(test1)) # must return true\n",
        "print(check_input(test2)) # must return false\n",
        "print(check_input(test3)) # must return false"
      ],
      "metadata": {
        "id": "wdL9MWgq2ZbP",
        "colab": {
          "base_uri": "https://localhost:8080/"
        },
        "outputId": "dcd5799b-2e69-4ced-b62f-f8c51bddf2d6"
      },
      "execution_count": 17,
      "outputs": [
        {
          "output_type": "stream",
          "name": "stdout",
          "text": [
            "True\n",
            "False\n",
            "False\n"
          ]
        }
      ]
    },
    {
      "cell_type": "markdown",
      "source": [
        "---\n",
        "## Question 2\n",
        "---"
      ],
      "metadata": {
        "id": "4RVTlnhWqOUC"
      }
    },
    {
      "cell_type": "markdown",
      "source": [
        "**Part A** - Import the file \"StudentMarkSheet.csv\" as a Pandas DataFrame and print the information for the dataframe"
      ],
      "metadata": {
        "id": "Uyc7JPtNt0pR"
      }
    },
    {
      "cell_type": "code",
      "execution_count": 22,
      "metadata": {
        "id": "wYrt7e6Xop2P",
        "colab": {
          "base_uri": "https://localhost:8080/"
        },
        "outputId": "425bbeae-6cc9-4f96-e2a4-3f37b505c2e6"
      },
      "outputs": [
        {
          "output_type": "stream",
          "name": "stdout",
          "text": [
            "Mounted at /content/drive\n",
            "        Student name  Exam name   Exam date  Marks\n",
            "0       James Walker    Biology  05/06/2016   31.0\n",
            "1      Velma Clemons    Biology  05/06/2016   43.0\n",
            "2     Kibo Underwood    Biology  05/06/2016   81.0\n",
            "3        Louis Mcgee    Biology  05/06/2016   11.0\n",
            "4       Phyllis Paul    Biology  05/06/2016   18.0\n",
            "..               ...        ...         ...    ...\n",
            "195       Yen Bowers  Sociology  21/06/2016   52.0\n",
            "196        Ryan Pena  Sociology  21/06/2016   16.0\n",
            "197  Portia Hamilton  Sociology  21/06/2016   34.0\n",
            "198  Sydnee Chambers  Sociology  21/06/2016   76.0\n",
            "199      Stacy Small  Sociology  21/06/2016   96.0\n",
            "\n",
            "[200 rows x 4 columns]\n"
          ]
        }
      ],
      "source": [
        "import pandas as pd \n",
        "import matplotlib.pyplot as plt\n",
        "import numpy as np\n",
        "from google.colab import drive \n",
        "drive.mount(\"/content/drive\",force_remount=True)\n",
        "data=pd.read_csv('/content/drive/MyDrive/Intro to DS - Assignment 1/StudentMarkSheet.csv')\n",
        "print (data)\n",
        "\n",
        "\n",
        "\n",
        "\n",
        "\n",
        "\n",
        "\n",
        "\n",
        "\n",
        "\n",
        "\n",
        "\n"
      ]
    },
    {
      "cell_type": "markdown",
      "source": [
        "**Part B** - Remove any rows that do not contain all the data. Also print the following information.\n",
        "\n",
        "1. Number of rows before\n",
        "2. Number of rows containing null data\n",
        "3. Number of rows after"
      ],
      "metadata": {
        "id": "jIaMvgcft_i0"
      }
    },
    {
      "cell_type": "code",
      "source": [
        "nulls =data.dropna()\n",
        "totalrows= data.shape[0]\n",
        "temp=totalrows-data.shape[0]\n",
        "print ('Number of rows before removing nulls: ',totalrows)\n",
        "print ('\\nNumber of rows containing null data',temp)\n",
        "print ('\\nNumber of rows after removing nulls',data.shape[0])"
      ],
      "metadata": {
        "id": "_ov_SWdxuZUm",
        "colab": {
          "base_uri": "https://localhost:8080/"
        },
        "outputId": "dfd55c5f-abc5-40f1-d677-8cf22a8724fd"
      },
      "execution_count": 12,
      "outputs": [
        {
          "output_type": "stream",
          "name": "stdout",
          "text": [
            "Number of rows before removing nulls:  200\n",
            "\n",
            "Number of rows containing null data 0\n",
            "\n",
            "Number of rows after removing nulls 200\n"
          ]
        }
      ]
    },
    {
      "cell_type": "markdown",
      "source": [
        "**Part C** - Print all the marks along with the subject for the student named \"James Walker\""
      ],
      "metadata": {
        "id": "2kd9zAX6wkXM"
      }
    },
    {
      "cell_type": "code",
      "source": [
        "temp=data.loc[data[\"Student name\"] == \"James Walker\", (\"Student name\", \"Exam name\", \"Marks\")]\n",
        "print ('data of James walker is \\n',temp)"
      ],
      "metadata": {
        "id": "N0HWJN-PwuSo",
        "colab": {
          "base_uri": "https://localhost:8080/"
        },
        "outputId": "7b723106-4bd2-43fd-e6c7-58e95158ec4e"
      },
      "execution_count": 13,
      "outputs": [
        {
          "output_type": "stream",
          "name": "stdout",
          "text": [
            "data of James walker is \n",
            "      Student name    Exam name  Marks\n",
            "0    James Walker      Biology   31.0\n",
            "42   James Walker    Chemistry   61.0\n",
            "71   James Walker  Mathematics   23.0\n",
            "150  James Walker      Physics  100.0\n",
            "180  James Walker    Sociology   73.0\n"
          ]
        }
      ]
    },
    {
      "cell_type": "markdown",
      "source": [
        "---\n",
        "## Question 3\n",
        "---"
      ],
      "metadata": {
        "id": "ts8Y1EXmwzhf"
      }
    },
    {
      "cell_type": "markdown",
      "source": [
        "**Part A** - From the DataFrame created in Question 2, calculate the average marks for each subject"
      ],
      "metadata": {
        "id": "PJENm_hpw3GQ"
      }
    },
    {
      "cell_type": "code",
      "source": [
        "biology = data.loc[data[\"Exam name\"] == \"Biology\", \"Marks\"]\n",
        "n_biology = biology.count()\n",
        "S_biology = biology.sum()\n",
        "a_biology = S_biology / n_biology\n",
        "print(\"\\nTotal of Biology Tests: \", n_biology, \"\\n Sum: \", S_biology)\n",
        "print(\"\\nAverage of Biology: \", a_biology)\n",
        "chemistry = data.loc[data[\"Exam name\"] == \"Chemistry\", \"Marks\"]\n",
        "n_chemistry = chemistry.count()\n",
        "S_chemistry = chemistry.sum()\n",
        "a_chemistry = S_chemistry / n_chemistry\n",
        "print(\"\\nTotal of Chemistry Tests: \", n_chemistry, \"\\nSum : \", S_chemistry)\n",
        "print(\"\\nAverage of Chemistry: \", a_chemistry)\n",
        "physics = data.loc[data[\"Exam name\"] == \"Physics\", \"Marks\"]\n",
        "n_physics = physics.count()\n",
        "S_physics = physics.sum()\n",
        "a_physics = S_physics / n_physics\n",
        "print(\"\\nTotal of Physics Tests: \", n_physics, \"\\nSum : \", S_physics)\n",
        "print(\"\\nAverage of Physics: \", a_physics)\n",
        "maths = data.loc[data[\"Exam name\"] == \"Mathematics\", \"Marks\"]\n",
        "n_maths = maths.count()\n",
        "S_maths = maths.sum()\n",
        "a_maths = S_maths / n_maths\n",
        "print(\"\\nTotal of Mathematics Tests: \", n_maths, \"\\nSum : \", S_maths)\n",
        "print(\"\\nAverage of Mathematics: \", a_maths)\n",
        "socio = data.loc[data[\"Exam name\"] == \"Sociology\", \"Marks\"]\n",
        "n_socio = socio.count()\n",
        "S_socio = socio.sum()\n",
        "a_socio = S_socio / n_socio\n",
        "print(\"\\nTotal of Sociology Tests: \", n_socio, \"\\nSum: \", S_socio)\n",
        "print(\"\\nAverage of Sociology: \", a_socio)"
      ],
      "metadata": {
        "id": "AxhCtST5xS3L",
        "colab": {
          "base_uri": "https://localhost:8080/"
        },
        "outputId": "6bcaf86a-e87d-4615-86fc-63a3390331ee"
      },
      "execution_count": 5,
      "outputs": [
        {
          "output_type": "stream",
          "name": "stdout",
          "text": [
            "\n",
            "Total of Biology Tests:  38 \n",
            " Sum:  1820.0\n",
            "\n",
            "Average of Biology:  47.89473684210526\n",
            "\n",
            "Total of Chemistry Tests:  26 \n",
            "Sum :  1315.0\n",
            "\n",
            "Average of Chemistry:  50.57692307692308\n",
            "\n",
            "Total of Physics Tests:  21 \n",
            "Sum :  1087.0\n",
            "\n",
            "Average of Physics:  51.76190476190476\n",
            "\n",
            "Total of Mathematics Tests:  36 \n",
            "Sum :  1763.0\n",
            "\n",
            "Average of Mathematics:  48.97222222222222\n",
            "\n",
            "Total of Sociology Tests:  38 \n",
            "Sum:  2129.0\n",
            "\n",
            "Average of Sociology:  56.026315789473685\n"
          ]
        }
      ]
    },
    {
      "cell_type": "markdown",
      "source": [
        "**Part B** - Using the averages you just calculated, plot a Bar Graph showing the average marks of each subject"
      ],
      "metadata": {
        "id": "NDlaA7hHxUBc"
      }
    },
    {
      "cell_type": "code",
      "source": [
        "marks = np.array([a_biology, a_chemistry, a_maths, a_physics, a_socio])\n",
        "subjects = np.array([\"Biology\", \"Chemistry\", \"Mathematics\", \"Physics\", \"Sociology\"])\n",
        "df = pd.DataFrame(marks, index=subjects)\n",
        "df.plot.bar(rot=0, color='purple', width=0.4)\n",
        "plt.title(\"Averages of Each Subject\")\n",
        "plt.show()"
      ],
      "metadata": {
        "id": "LWoPFZBOyyNn",
        "colab": {
          "base_uri": "https://localhost:8080/",
          "height": 281
        },
        "outputId": "e2c9fdc7-c543-44a9-833e-8722fc480d1f"
      },
      "execution_count": 24,
      "outputs": [
        {
          "output_type": "display_data",
          "data": {
            "text/plain": [
              "<Figure size 432x288 with 1 Axes>"
            ],
            "image/png": "[encoded data removed]"
          },
          "metadata": {
            "needs_background": "light"
          }
        }
      ]
    },
    {
      "cell_type": "markdown",
      "source": [
        "---\n",
        "## Question 4\n",
        "---"
      ],
      "metadata": {
        "id": "dWlOSOIs6d1R"
      }
    },
    {
      "cell_type": "markdown",
      "source": [
        "**Part A** - Import the file \"CatData.csv\" and preprocess it to remove any null values"
      ],
      "metadata": {
        "id": "b4s-pN4v6kgb"
      }
    },
    {
      "cell_type": "code",
      "source": [
        "import pandas as pd\n",
        "import numpy as np\n",
        "import matplotlib.pyplot as plt\n",
        "from sklearn import linear_model\n",
        "from google.colab import drive \n",
        "data=pd.read_csv('/content/drive/MyDrive/Intro to DS - Assignment 1/CatData.csv')\n",
        "print (data)\n",
        "\n"
      ],
      "metadata": {
        "id": "mvZ3xrBV9b1s",
        "colab": {
          "base_uri": "https://localhost:8080/"
        },
        "outputId": "b917a1c4-773e-4a55-9157-b4c17b1a8ace"
      },
      "execution_count": 25,
      "outputs": [
        {
          "output_type": "stream",
          "name": "stdout",
          "text": [
            "     Tail Length (cm)  Mass (kg)\n",
            "0                18.1      3.750\n",
            "1                18.6      3.800\n",
            "2                19.5      3.250\n",
            "3                19.3      3.450\n",
            "4                19.0      3.650\n",
            "..                ...        ...\n",
            "337              20.7      4.000\n",
            "338              20.2      3.400\n",
            "339              19.3      3.775\n",
            "340              21.0      4.100\n",
            "341              19.8      3.775\n",
            "\n",
            "[342 rows x 2 columns]\n"
          ]
        }
      ]
    },
    {
      "cell_type": "markdown",
      "source": [
        "**Part B** - Identify the independant and dependant variables (comment answer below)"
      ],
      "metadata": {
        "id": "bWxuB3ep9SWA"
      }
    },
    {
      "cell_type": "code",
      "source": [
        "# dependant variable: \n",
        "# independant variable: \n",
        "data = data[[\"Tail Length (cm)\", \"Mass (kg)\"]]  \n",
        "num = int(len(data)*0.8)\n",
        "train = data[:num]\n",
        "test = data[num:]\n",
        "print(\"Data: \", len(data))\n",
        "print(\"Train:\\n\", train)\n",
        "print(\"Test:\\n\", test)\n",
        "#x=tail length\n",
        "#mass"
      ],
      "metadata": {
        "id": "TS9tvuRt9cWr",
        "colab": {
          "base_uri": "https://localhost:8080/"
        },
        "outputId": "07921487-5994-4bcc-e740-62ad6a39437b"
      },
      "execution_count": 32,
      "outputs": [
        {
          "output_type": "stream",
          "name": "stdout",
          "text": [
            "Data:  342\n",
            "Train:\n",
            "      Tail Length (cm)  Mass (kg)\n",
            "0                18.1      3.750\n",
            "1                18.6      3.800\n",
            "2                19.5      3.250\n",
            "3                19.3      3.450\n",
            "4                19.0      3.650\n",
            "..                ...        ...\n",
            "268              22.2      6.000\n",
            "269              21.4      4.925\n",
            "270              21.5      4.850\n",
            "271              22.2      5.750\n",
            "272              21.2      5.200\n",
            "\n",
            "[273 rows x 2 columns]\n",
            "Test:\n",
            "      Tail Length (cm)  Mass (kg)\n",
            "273              21.3      5.400\n",
            "274              19.2      3.500\n",
            "275              19.6      3.900\n",
            "276              19.3      3.650\n",
            "277              18.8      3.525\n",
            "..                ...        ...\n",
            "337              20.7      4.000\n",
            "338              20.2      3.400\n",
            "339              19.3      3.775\n",
            "340              21.0      4.100\n",
            "341              19.8      3.775\n",
            "\n",
            "[69 rows x 2 columns]\n"
          ]
        }
      ]
    },
    {
      "cell_type": "markdown",
      "source": [
        "**Part C** - Create a linear regression model using sklearn and fit it to the data you just imported\n"
      ],
      "metadata": {
        "id": "xPHVA3cX7uk9"
      }
    },
    {
      "cell_type": "code",
      "source": [
        "\n",
        "regr = linear_model.LinearRegression()\n",
        "xcom = np.array(train[[\"Tail Length (cm)\"]])\n",
        "ycom = np.array(train[[\"Mass (kg)\"]])\n",
        "regr.fit(xcom, ycom)\n",
        "coefficients = regr.coef_  # slope\n",
        "intercept = regr.intercept_  # y-intercept\n",
        "print(\"Slope:\", coefficients[0])\n",
        "print(\"Intercept:\", intercept)"
      ],
      "metadata": {
        "id": "WYVNRotH9cyo",
        "colab": {
          "base_uri": "https://localhost:8080/"
        },
        "outputId": "ae7bb118-9bfe-4814-bc71-451060063d8f"
      },
      "execution_count": 34,
      "outputs": [
        {
          "output_type": "stream",
          "name": "stdout",
          "text": [
            "Slope: [0.48913766]\n",
            "Intercept: [-5.57328662]\n"
          ]
        }
      ]
    },
    {
      "cell_type": "markdown",
      "source": [
        "**Part D** - Print the values for slope and y-intercept"
      ],
      "metadata": {
        "id": "0QMipKhb830G"
      }
    },
    {
      "cell_type": "code",
      "source": [
        "print (coefficients[0])\n",
        "print('\\n',intercept)\n"
      ],
      "metadata": {
        "id": "R7cvi3KB9dJh",
        "colab": {
          "base_uri": "https://localhost:8080/"
        },
        "outputId": "fb3436df-0807-4bfa-b790-4de333f6ea21"
      },
      "execution_count": 35,
      "outputs": [
        {
          "output_type": "stream",
          "name": "stdout",
          "text": [
            "[0.48913766]\n",
            "\n",
            " [-5.57328662]\n"
          ]
        }
      ]
    },
    {
      "cell_type": "markdown",
      "source": [
        "**Part E** - Plot a scatter graph of the original data and a regression line on the same figure (example with dummy data shown below)\n",
        "\n",
        "![](https://drive.google.com/uc?export=view&id=1o_NAsNjfx7zAh9m-UjvWB3rta6uraKdY)"
      ],
      "metadata": {
        "id": "IIq-BQYp_i33"
      }
    },
    {
      "cell_type": "code",
      "source": [
        "\n",
        "\n",
        "plt.scatter(data[\"Tail Length (cm)\"], data[\"Mass (kg)\"])\n",
        "plt.plot(xcom, coefficients * xcom+intercept, color='silver')\n",
        "plt.title(\"Linear Regression\")\n",
        "plt.xlabel(\"Tail Length (cm)\")\n",
        "plt.ylabel(\"Mass (kg)\")\n",
        "plt.show()\n"
      ],
      "metadata": {
        "id": "jhz8gTYt_lCn",
        "colab": {
          "base_uri": "https://localhost:8080/",
          "height": 295
        },
        "outputId": "2b5a0c21-ce26-4a58-9d0c-4e94d7cd37ba"
      },
      "execution_count": 38,
      "outputs": [
        {
          "output_type": "display_data",
          "data": {
            "text/plain": [
              "<Figure size 432x288 with 1 Axes>"
            ],
            "image/png": "[encoded data removed]"
          },
          "metadata": {
            "needs_background": "light"
          }
        }
      ]
    }
  ]
}